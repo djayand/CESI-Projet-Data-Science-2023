{
 "cells": [
  {
   "cell_type": "markdown",
   "id": "a853ffc1",
   "metadata": {},
   "source": [
    "# Livrable 3 - Captionning d'images\n",
    "\n",
    "|Auteurs|\n",
    "|---|\n",
    "|Frédéric SPATARO|\n",
    "|Oscar PALISSOT|\n",
    "|Djayan DEMAISON|\n",
    "|Arnaud HITTINGER|\n",
    "|Nicolas PELLEGRINI|"
   ]
  },
  {
   "cell_type": "markdown",
   "id": "8158e66b",
   "metadata": {},
   "source": [
    "# 1. Introduction\n",
    "\n",
    "## 1.1. Présentation du captionning\n",
    "\n",
    "Le captionning d'images consiste à générer une description textuelle d'une image. Ces tâches combinent la vision par ordinateur, qui permet à l'IA d'interpréter le contenu visuel, avec le traitement du langage naturel, qui lui permet de générer des descriptions cohérentes.\n",
    "\n",
    "## 1.2. Rôle dans le projet\n",
    "\n",
    "Pour TouNum, le \"captioning\" est crucial. L'entreprise s'efforce de numériser et de catégoriser un volume massif de documents et d'images. Pouvoir attribuer automatiquement des descriptions précises aux images facilite non seulement leur indexation, mais aussi leur recherche et leur analyse, ajoutant une immense valeur à la base de données numérisée.\n",
    "\n",
    "## 1.3. Utilisation du dataset \"MS COCO\"\n",
    "\n",
    "MS COCO est un dataset standard dans le domaine du \"captioning\" d'images, contenant plus de **200 000 images** avec **5 descriptions uniques** pour chaque image. L'utiliser offre deux avantages majeurs :\n",
    "\n",
    "- Diversité : Avec un large éventail de scènes et d'objets, il offre une riche variété pour l'entraînement.\n",
    "\n",
    "- Annotations Fiables : Les multiples descriptions par image fournissent un terrain solide pour évaluer la pertinence des légendes générées.\n",
    "\n",
    "En exploitant MS COCO, nous nous assurons que notre modèle est formé et testé sur une base de données reconnue et robuste."
   ]
  },
  {
   "cell_type": "markdown",
   "id": "050bd2a2",
   "metadata": {},
   "source": [
    "# 2. Prétraitement des données :"
   ]
  },
  {
   "cell_type": "code",
   "execution_count": null,
   "id": "46193660",
   "metadata": {},
   "outputs": [],
   "source": []
  },
  {
   "cell_type": "code",
   "execution_count": null,
   "id": "d069e278",
   "metadata": {},
   "outputs": [],
   "source": []
  },
  {
   "cell_type": "code",
   "execution_count": null,
   "id": "38d8e9b1",
   "metadata": {},
   "outputs": [],
   "source": []
  },
  {
   "cell_type": "markdown",
   "id": "1339b557",
   "metadata": {},
   "source": [
    "# 3. Architecture du modèle :"
   ]
  },
  {
   "cell_type": "code",
   "execution_count": null,
   "id": "a0b18505",
   "metadata": {},
   "outputs": [],
   "source": []
  },
  {
   "cell_type": "code",
   "execution_count": null,
   "id": "c8f81183",
   "metadata": {},
   "outputs": [],
   "source": []
  },
  {
   "cell_type": "code",
   "execution_count": null,
   "id": "e4ba3f48",
   "metadata": {},
   "outputs": [],
   "source": []
  },
  {
   "cell_type": "markdown",
   "id": "c92fb870",
   "metadata": {},
   "source": [
    "# 4. Entraînement du modèle :"
   ]
  },
  {
   "cell_type": "code",
   "execution_count": null,
   "id": "59f18250",
   "metadata": {},
   "outputs": [],
   "source": []
  },
  {
   "cell_type": "code",
   "execution_count": null,
   "id": "f2724ee8",
   "metadata": {},
   "outputs": [],
   "source": []
  },
  {
   "cell_type": "code",
   "execution_count": null,
   "id": "7fdf1784",
   "metadata": {},
   "outputs": [],
   "source": []
  },
  {
   "cell_type": "markdown",
   "id": "430ca75c",
   "metadata": {},
   "source": [
    "# 5. Évaluation du modèle :"
   ]
  },
  {
   "cell_type": "code",
   "execution_count": null,
   "id": "2a893d0a",
   "metadata": {},
   "outputs": [],
   "source": []
  },
  {
   "cell_type": "code",
   "execution_count": null,
   "id": "8e4e0357",
   "metadata": {},
   "outputs": [],
   "source": []
  },
  {
   "cell_type": "code",
   "execution_count": null,
   "id": "b2f8a5d7",
   "metadata": {},
   "outputs": [],
   "source": []
  },
  {
   "cell_type": "markdown",
   "id": "63ff797f",
   "metadata": {},
   "source": [
    "# 6. Optimisation et Améliorations :"
   ]
  },
  {
   "cell_type": "code",
   "execution_count": null,
   "id": "7a060241",
   "metadata": {},
   "outputs": [],
   "source": []
  },
  {
   "cell_type": "code",
   "execution_count": null,
   "id": "597a51ff",
   "metadata": {},
   "outputs": [],
   "source": []
  },
  {
   "cell_type": "code",
   "execution_count": null,
   "id": "f6dc2fac",
   "metadata": {},
   "outputs": [],
   "source": []
  }
 ],
 "metadata": {
  "kernelspec": {
   "display_name": "Python 3 (ipykernel)",
   "language": "python",
   "name": "python3"
  },
  "language_info": {
   "codemirror_mode": {
    "name": "ipython",
    "version": 3
   },
   "file_extension": ".py",
   "mimetype": "text/x-python",
   "name": "python",
   "nbconvert_exporter": "python",
   "pygments_lexer": "ipython3",
   "version": "3.11.4"
  }
 },
 "nbformat": 4,
 "nbformat_minor": 5
}
